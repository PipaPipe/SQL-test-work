{
 "cells": [
  {
   "cell_type": "code",
   "execution_count": 96,
   "id": "50d710e6-bc29-4693-b42f-a21dced96733",
   "metadata": {},
   "outputs": [
    {
     "name": "stdout",
     "output_type": "stream",
     "text": [
      "Requirement already satisfied: psycopg2-binary in /Library/Frameworks/Python.framework/Versions/3.11/lib/python3.11/site-packages (2.9.9)\n",
      "Note: you may need to restart the kernel to use updated packages.\n"
     ]
    }
   ],
   "source": [
    "pip install psycopg2-binary"
   ]
  },
  {
   "cell_type": "code",
   "execution_count": 97,
   "id": "81cfdb40-9a10-4e7d-ac52-7fde914257e6",
   "metadata": {},
   "outputs": [],
   "source": [
    "PATH = '/Users/maksimsadkov/SQL T+ test'"
   ]
  },
  {
   "cell_type": "code",
   "execution_count": 98,
   "id": "464101a0-7960-497f-9aac-bec14bb88c60",
   "metadata": {},
   "outputs": [],
   "source": [
    "import psycopg2\n",
    "import pandas as pd\n",
    "\n",
    "import os"
   ]
  },
  {
   "cell_type": "code",
   "execution_count": 99,
   "id": "763512a9-d1ed-48dd-8bac-35dd3285087d",
   "metadata": {},
   "outputs": [],
   "source": [
    "def get_connection(password, dbname='postgres', user='postgres', host='localhost'):\n",
    "    try: \n",
    "        conn = psycopg2.connect(dbname=dbname, user=user, password=password, host=host)\n",
    "        return conn\n",
    "    except:\n",
    "        return False"
   ]
  },
  {
   "cell_type": "code",
   "execution_count": 100,
   "id": "f95bfcc8-7426-412a-bf8b-39b6d1c2c665",
   "metadata": {},
   "outputs": [],
   "source": [
    "def execute_query(connection, query):\n",
    "    try:\n",
    "        with connection.cursor() as cur:\n",
    "            cur.execute(query)\n",
    "            res = cur.fetchall()\n",
    "            colnames = [desc[0] for desc in cur.description]\n",
    "            return res, colnames\n",
    "    except Exception as e:\n",
    "        return e, False\n",
    "   "
   ]
  },
  {
   "cell_type": "code",
   "execution_count": 101,
   "id": "7648cdc2-2217-4764-ad2f-45e6d57bd985",
   "metadata": {},
   "outputs": [],
   "source": [
    "def create_csv_report(df, path):\n",
    "    try:\n",
    "        df.to_csv(path)\n",
    "    except Exception as e:\n",
    "        return e"
   ]
  },
  {
   "cell_type": "code",
   "execution_count": 102,
   "id": "dbc856c1-454f-4035-b351-3c0947fcd03d",
   "metadata": {},
   "outputs": [],
   "source": [
    "def create_df(data, column_names):\n",
    "    return pd.DataFrame(data, columns=column_names)"
   ]
  },
  {
   "cell_type": "code",
   "execution_count": 103,
   "id": "a00f05bf-df49-427c-a75d-add987a773e0",
   "metadata": {},
   "outputs": [],
   "source": [
    "conn = get_connection('123')"
   ]
  },
  {
   "cell_type": "code",
   "execution_count": 104,
   "id": "12b25092-12d0-4677-ad14-fdae11b3b26a",
   "metadata": {},
   "outputs": [],
   "source": [
    "query_1 = '''\n",
    "select cpn.per_id, cpn.entity_name, cap.acct_id , cap.acct_rel_type \n",
    "from \n",
    "\tci_acct_per cap\n",
    "\tleft join ci_per_name cpn on cap.per_id = cpn.per_id ;\n",
    "'''\n",
    "\n",
    "query_2 = '''\n",
    "select cpn.entity_name as owner_name, cpn2.entity_name as family_member_name\n",
    "from \n",
    "\tci_per_name cpn \n",
    "\tleft join ci_acct_per cap on cap.per_id = cpn.per_id\n",
    "\tleft join ci_acct_per cap2 on cap2.acct_id = cap.acct_id \n",
    "\tleft join ci_per_name cpn2 on cpn2.per_id = cap2.per_id\n",
    "WHERE cap.main_cust_sw  = 'Y' and cap.acct_rel_type = 'FMLMMBRA';\n",
    "'''\n",
    "\n",
    "query_3 = '''\n",
    "select cpn1.per_id,cpn2.entity_name \n",
    "from (select cpn.per_id\n",
    "\tfrom ci_acct_per cap \n",
    "\tleft join ci_per_name cpn on cpn.per_id = cap.per_id\n",
    "\tgroup by cpn.per_id\n",
    "\thaving count(cap.acct_id) > 1) as cpn1\n",
    "left join ci_per_name cpn2 on cpn2.per_id = cpn1.per_id;\n",
    "'''\n",
    "\n",
    "query_4 = '''\n",
    "select ca.acct_id, ca.setup_dt, ca.cis_division, ca.currency_cd, cac.char_val, cac.effdt\n",
    "from ci_acct ca \n",
    "left join(\n",
    "\tselect * from (\n",
    "\t\tselect *,\n",
    "\t\trow_number() over(partition by acct_id order by effdt DESC) as row_num\t\n",
    "\t\tfrom (\n",
    "\t\t\tselect * from ci_acct_char\n",
    "\t\t\twhere char_type_cd = 'PENI-PRM'\n",
    "\t\t\t) peni_prm_cac\n",
    "\t\t\t) cac_rang\n",
    "\twhere row_num = 1) cac on cac.acct_id = ca.acct_id;\n",
    "'''\n",
    "\n",
    "query_5 = '''\n",
    "select DISTINCT cpn.per_id, cpn.entity_name\n",
    "from ci_acct_char cac \n",
    "left join ci_acct_per cap on cap.acct_id  = cac.acct_id \n",
    "left join ci_per_name cpn on cpn.per_id  = cap.per_id \n",
    "left join ci_acct_char cac2  on cap.acct_id  = cac2.acct_id \n",
    "where cac.char_type_cd = 'OTDELEN' and cac.effdt <= '2015-01-01' and cap.acct_rel_type = 'OSNOV' and cac2.effdt > '2015-01-01'\n",
    "and cac.char_val <> cac2.char_val;\n",
    "'''\n",
    "\n",
    "query_6 = '''\n",
    "select sub_q1.acct_id\n",
    "from (\n",
    "\tselect acct_id from (\n",
    "\t\tselect * from ci_sa cs \n",
    "\t\twhere sa_type_cd != 'PEREPL'\n",
    "\t) cs2\n",
    "\tgroup by acct_id) sub_q1\n",
    "left join (\n",
    "\tselect * from ci_sa cs \n",
    "\twhere sa_type_cd = 'PEREPL'\n",
    "\t) sub_q2 on sub_q1.acct_id = sub_q2.acct_id\n",
    "where sub_q2.acct_id is null or sub_q2.acct_id = '';\n",
    "'''\n",
    "\n",
    "query_7 = '''\n",
    "select *\n",
    "from ci_acct ca \n",
    "order by setup_dt \n",
    "limit 1;\n",
    "'''"
   ]
  },
  {
   "cell_type": "code",
   "execution_count": 105,
   "id": "c9f20cad-481e-425d-bb78-eee0a5bbfb31",
   "metadata": {},
   "outputs": [],
   "source": [
    "query_list = [query_1, query_2, query_3, query_4, query_5, query_6, query_7]"
   ]
  },
  {
   "cell_type": "code",
   "execution_count": 107,
   "id": "8b5c93a3-fad7-4caa-b5d7-d55ac62cd051",
   "metadata": {
    "scrolled": true
   },
   "outputs": [
    {
     "name": "stdout",
     "output_type": "stream",
     "text": [
      "([('0000001000', 'Рухлядева,Галина Степановна', '2816590000', 'OSNOV'), ('0000003000', 'Адушкина,Ирина Юрьевна', '1420634111', 'OSNOV'), ('0000010000', 'Малков,Владимир Леонидович', '9369900000', 'OSNOV'), ('0000010000', 'Малков,Владимир Леонидович', '9369900000', 'OSNOV'), ('0000011000', 'Пальниченко,Анна Терентьевна', '9374501000', 'OSNOV'), ('0151410000', 'Галямова,Разифа Василовна', '6034110000', 'LGOT'), ('0152110000', 'Зворыгина,Галина Васильевна', '0624110000', 'LGOT'), ('0367400000', 'Гуляев,Алексей Викторович', '6074300000', 'FMLMMBRA'), ('0367400000', 'Гуляев,Алексей Викторович', '8816317000', 'FMLMMBRA'), ('0457100000', 'Зяблова,Людмила Игоревна', '1324000000', 'ARENDTOR'), ('0457100000', 'Зяблова,Людмила Игоревна', '5271113000', 'OSNOV'), ('0457100000', 'Зяблова,Людмила Игоревна', '6618594111', 'ARENDTOR'), ('0457100000', 'Зяблова,Людмила Игоревна', '7618594111', 'ARENDTOR'), ('0745010000', 'Тарасова,Елена Генриевна', '4498354000', 'OSNOV'), ('0745010000', 'Тарасова,Елена Генриевна', '9015010000', 'OSNOV'), ('0769210000', 'Дараган,Валентина Ивановна', '9015010000', 'LGOT'), ('3664110000', 'Галямов,Ралиф Низамович', '6034110000', 'OSNOV'), ('7164110000', 'Петров,Михаил Сергеевич', '0624110000', 'OSNOV')], ['per_id', 'entity_name', 'acct_id', 'acct_rel_type'])\n",
      "None\n",
      "([('Гуляев,Алексей Викторович', 'Гуляев,Алексей Викторович'), ('Гуляев,Алексей Викторович', 'Гуляев,Алексей Викторович')], ['owner_name', 'family_member_name'])\n",
      "None\n",
      "([('0000010000', 'Малков,Владимир Леонидович'), ('0367400000', 'Гуляев,Алексей Викторович'), ('0457100000', 'Зяблова,Людмила Игоревна'), ('0745010000', 'Тарасова,Елена Генриевна')], ['per_id', 'entity_name'])\n",
      "None\n",
      "([('1420634111', datetime.date(2016, 1, 10), 'OR-A', 'RUB', None, None), ('6074300000', datetime.date(2007, 1, 1), 'SESB', 'RUB', 'DA', datetime.date(2016, 1, 4)), ('5271113000', datetime.date(2014, 1, 11), 'SE-A', 'RUB', 'DA', datetime.date(2016, 1, 4)), ('2816590000', datetime.date(2008, 1, 2), 'SESB', 'RUB', 'DA', datetime.date(2016, 1, 4)), ('9369900000', datetime.date(2008, 1, 1), 'SESB', 'RUB', 'DA', datetime.date(2016, 1, 4)), ('8816317000', datetime.date(2018, 1, 1), 'SE-A', 'RUB', 'DA', datetime.date(2018, 1, 1)), ('6034110000', datetime.date(2007, 1, 12), 'SESB', 'RUB', 'DA', datetime.date(2016, 1, 4)), ('4498354000', datetime.date(2016, 1, 8), 'SE-A', 'RUB', None, None), ('0624110000', datetime.date(2007, 1, 12), 'SESB', 'RUB', 'DA', datetime.date(2016, 1, 4)), ('9015010000', datetime.date(2007, 1, 12), 'SESB', 'RUB', 'DA', datetime.date(2018, 1, 3)), ('9374501000', datetime.date(1969, 10, 5), 'ORESB', 'RUB', 'DA', datetime.date(2014, 1, 9)), ('1324000000', datetime.date(2007, 1, 6), 'SESB', 'RUB', 'DA', datetime.date(2016, 1, 4)), ('7618594111', datetime.date(2010, 1, 9), 'SE-A', 'RUB', None, None), ('6618594111', datetime.date(2015, 1, 10), 'SE-A', 'RUB', None, None)], ['acct_id', 'setup_dt', 'cis_division', 'currency_cd', 'char_val', 'effdt'])\n",
      "None\n",
      "([('0000001000', 'Рухлядева,Галина Степановна'), ('0000010000', 'Малков,Владимир Леонидович'), ('0457100000', 'Зяблова,Людмила Игоревна'), ('0745010000', 'Тарасова,Елена Генриевна'), ('3664110000', 'Галямов,Ралиф Низамович'), ('7164110000', 'Петров,Михаил Сергеевич')], ['per_id', 'entity_name'])\n",
      "None\n",
      "([('6618594111',), ('8816317000',), ('5271113000',)], ['acct_id'])\n",
      "None\n",
      "([('9374501000', datetime.date(1969, 10, 5), 'ORESB', 'RUB')], ['acct_id', 'setup_dt', 'cis_division', 'currency_cd'])\n",
      "None\n"
     ]
    }
   ],
   "source": [
    "for idx, query in enumerate(query_list):\n",
    "    res = execute_query(conn, query)\n",
    "    print(res)\n",
    "    if res[1] != False:\n",
    "        data, col_names = res[0], res[1]\n",
    "        df = create_df(data, col_names)\n",
    "        csv = create_csv_report(df, f'report_{idx}')\n",
    "        print(csv)"
   ]
  },
  {
   "cell_type": "code",
   "execution_count": null,
   "id": "7d094708-81e4-4429-a735-44621d993de4",
   "metadata": {},
   "outputs": [],
   "source": []
  }
 ],
 "metadata": {
  "kernelspec": {
   "display_name": "Python 3 (ipykernel)",
   "language": "python",
   "name": "python3"
  },
  "language_info": {
   "codemirror_mode": {
    "name": "ipython",
    "version": 3
   },
   "file_extension": ".py",
   "mimetype": "text/x-python",
   "name": "python",
   "nbconvert_exporter": "python",
   "pygments_lexer": "ipython3",
   "version": "3.11.0"
  }
 },
 "nbformat": 4,
 "nbformat_minor": 5
}

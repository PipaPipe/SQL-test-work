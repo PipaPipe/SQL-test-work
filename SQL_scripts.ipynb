{
 "cells": [
  {
   "cell_type": "code",
   "execution_count": 96,
   "id": "50d710e6-bc29-4693-b42f-a21dced96733",
   "metadata": {},
   "outputs": [
    {
     "name": "stdout",
     "output_type": "stream",
     "text": [
      "Requirement already satisfied: psycopg2-binary in /Library/Frameworks/Python.framework/Versions/3.11/lib/python3.11/site-packages (2.9.9)\n",
      "Note: you may need to restart the kernel to use updated packages.\n"
     ]
    }
   ],
   "source": [
    "pip install psycopg2-binary"
   ]
  },
  {
   "cell_type": "code",
   "execution_count": 1,
   "id": "81cfdb40-9a10-4e7d-ac52-7fde914257e6",
   "metadata": {},
   "outputs": [],
   "source": [
    "PATH = '/Users/maksimsadkov/SQL T+ test'"
   ]
  },
  {
   "cell_type": "code",
   "execution_count": 2,
   "id": "464101a0-7960-497f-9aac-bec14bb88c60",
   "metadata": {},
   "outputs": [],
   "source": [
    "import psycopg2\n",
    "import pandas as pd\n",
    "\n",
    "import os"
   ]
  },
  {
   "cell_type": "code",
   "execution_count": 3,
   "id": "763512a9-d1ed-48dd-8bac-35dd3285087d",
   "metadata": {},
   "outputs": [],
   "source": [
    "def get_connection(password, dbname='postgres', user='postgres', host='localhost'):\n",
    "    try: \n",
    "        conn = psycopg2.connect(dbname=dbname, user=user, password=password, host=host)\n",
    "        return conn\n",
    "    except:\n",
    "        return False"
   ]
  },
  {
   "cell_type": "code",
   "execution_count": 4,
   "id": "f95bfcc8-7426-412a-bf8b-39b6d1c2c665",
   "metadata": {},
   "outputs": [],
   "source": [
    "def execute_query(connection, query):\n",
    "    try:\n",
    "        with connection.cursor() as cur:\n",
    "            cur.execute(query)\n",
    "            res = cur.fetchall()\n",
    "            colnames = [desc[0] for desc in cur.description]\n",
    "            return res, colnames\n",
    "    except Exception as e:\n",
    "        return e, False\n",
    "   "
   ]
  },
  {
   "cell_type": "code",
   "execution_count": 5,
   "id": "7648cdc2-2217-4764-ad2f-45e6d57bd985",
   "metadata": {},
   "outputs": [],
   "source": [
    "def create_csv_report(df, path):\n",
    "    try:\n",
    "        df.to_csv(path)\n",
    "    except Exception as e:\n",
    "        return e"
   ]
  },
  {
   "cell_type": "code",
   "execution_count": 6,
   "id": "dbc856c1-454f-4035-b351-3c0947fcd03d",
   "metadata": {},
   "outputs": [],
   "source": [
    "def create_df(data, column_names):\n",
    "    return pd.DataFrame(data, columns=column_names)"
   ]
  },
  {
   "cell_type": "code",
   "execution_count": 7,
   "id": "a00f05bf-df49-427c-a75d-add987a773e0",
   "metadata": {},
   "outputs": [],
   "source": [
    "conn = get_connection('123')"
   ]
  },
  {
   "cell_type": "code",
   "execution_count": 8,
   "id": "12b25092-12d0-4677-ad14-fdae11b3b26a",
   "metadata": {},
   "outputs": [],
   "source": [
    "query_1 = '''\n",
    "select cpn.per_id, cpn.entity_name, cap.acct_id , cap.acct_rel_type \n",
    "from \n",
    "\tci_acct_per cap\n",
    "\tleft join ci_per_name cpn on cap.per_id = cpn.per_id ;\n",
    "'''\n",
    "\n",
    "query_2 = '''\n",
    "select cpn.entity_name as owner_name, cpn2.entity_name as family_member_name\n",
    "from \n",
    "\tci_per_name cpn \n",
    "\tleft join ci_acct_per cap on cap.per_id = cpn.per_id\n",
    "\tleft join ci_acct_per cap2 on cap2.acct_id = cap.acct_id \n",
    "\tleft join ci_per_name cpn2 on cpn2.per_id = cap2.per_id\n",
    "WHERE cap.main_cust_sw  = 'Y' and cap.acct_rel_type = 'FMLMMBRA';\n",
    "'''\n",
    "\n",
    "query_3 = '''\n",
    "select cpn1.per_id,cpn2.entity_name \n",
    "from (select cpn.per_id\n",
    "\tfrom ci_acct_per cap \n",
    "\tleft join ci_per_name cpn on cpn.per_id = cap.per_id\n",
    "\tgroup by cpn.per_id\n",
    "\thaving count(cap.acct_id) > 1) as cpn1\n",
    "left join ci_per_name cpn2 on cpn2.per_id = cpn1.per_id;\n",
    "'''\n",
    "\n",
    "query_4 = '''\n",
    "select ca.acct_id, cac.char_val, cac.effdt\n",
    "from ci_acct ca \n",
    "left join(\n",
    "\tselect * from (\n",
    "\t\tselect *,\n",
    "\t\trow_number() over(partition by acct_id order by effdt DESC) as row_num\t\n",
    "\t\tfrom (\n",
    "\t\t\tselect * from ci_acct_char\n",
    "\t\t\twhere char_type_cd = 'PENI-PRM'\n",
    "\t\t\t) peni_prm_cac\n",
    "\t\t\t) cac_rang\n",
    "\twhere row_num = 1) cac on cac.acct_id = ca.acct_id;\n",
    "'''\n",
    "\n",
    "query_5 = '''\n",
    "select DISTINCT cpn.per_id, cpn.entity_name\n",
    "from ci_acct_char cac \n",
    "left join ci_acct_per cap on cap.acct_id  = cac.acct_id \n",
    "left join ci_per_name cpn on cpn.per_id  = cap.per_id \n",
    "left join ci_acct_char cac2  on cap.acct_id  = cac2.acct_id \n",
    "where cac.char_type_cd = 'OTDELEN' and cac.effdt <= '2015-01-01' and cap.acct_rel_type = 'OSNOV' and cac2.effdt > '2015-01-01'\n",
    "and cac.char_val <> cac2.char_val;\n",
    "'''\n",
    "\n",
    "query_6 = '''\n",
    "select sub_q1.acct_id\n",
    "from (\n",
    "\tselect acct_id from (\n",
    "\t\tselect * from ci_sa cs \n",
    "\t\twhere sa_type_cd != 'PEREPL'\n",
    "\t) cs2\n",
    "\tgroup by acct_id) sub_q1\n",
    "left join (\n",
    "\tselect * from ci_sa cs \n",
    "\twhere sa_type_cd = 'PEREPL'\n",
    "\t) sub_q2 on sub_q1.acct_id = sub_q2.acct_id\n",
    "where sub_q2.acct_id is null or sub_q2.acct_id = '';\n",
    "'''\n",
    "\n",
    "query_7 = '''\n",
    "select *\n",
    "from ci_acct ca \n",
    "order by setup_dt \n",
    "limit 1;\n",
    "'''"
   ]
  },
  {
   "cell_type": "code",
   "execution_count": 9,
   "id": "c9f20cad-481e-425d-bb78-eee0a5bbfb31",
   "metadata": {},
   "outputs": [],
   "source": [
    "query_list = [query_1, query_2, query_3, query_4, query_5, query_6, query_7]"
   ]
  },
  {
   "cell_type": "code",
   "execution_count": 13,
   "id": "8b5c93a3-fad7-4caa-b5d7-d55ac62cd051",
   "metadata": {
    "scrolled": true
   },
   "outputs": [],
   "source": [
    "for idx, query in enumerate(query_list):\n",
    "    res = execute_query(conn, query)\n",
    "    if res[1] != False:\n",
    "        data, col_names = res[0], res[1]\n",
    "        df = create_df(data, col_names)\n",
    "        csv = create_csv_report(df, f'report_{idx+1}')"
   ]
  },
  {
   "cell_type": "code",
   "execution_count": null,
   "id": "7d094708-81e4-4429-a735-44621d993de4",
   "metadata": {},
   "outputs": [],
   "source": []
  }
 ],
 "metadata": {
  "kernelspec": {
   "display_name": "Python 3 (ipykernel)",
   "language": "python",
   "name": "python3"
  },
  "language_info": {
   "codemirror_mode": {
    "name": "ipython",
    "version": 3
   },
   "file_extension": ".py",
   "mimetype": "text/x-python",
   "name": "python",
   "nbconvert_exporter": "python",
   "pygments_lexer": "ipython3",
   "version": "3.11.0"
  }
 },
 "nbformat": 4,
 "nbformat_minor": 5
}
